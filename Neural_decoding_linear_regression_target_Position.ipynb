{
 "cells": [
  {
   "cell_type": "markdown",
   "metadata": {},
   "source": [
    "# Import required libraries"
   ]
  },
  {
   "cell_type": "code",
   "execution_count": 1,
   "metadata": {},
   "outputs": [],
   "source": [
    "# pip install seaborn\n",
    "# pip install xgboost\n",
    "# pip install keras\n",
    "# pip install sklearn\n",
    "# pip install pandas\n",
    "# pip install numpy"
   ]
  },
  {
   "cell_type": "code",
   "execution_count": 2,
   "metadata": {},
   "outputs": [],
   "source": [
    "import pandas as pd"
   ]
  },
  {
   "cell_type": "code",
   "execution_count": 3,
   "metadata": {},
   "outputs": [
    {
     "name": "stderr",
     "output_type": "stream",
     "text": [
      "Using TensorFlow backend.\n"
     ]
    }
   ],
   "source": [
    "from keras.callbacks import ModelCheckpoint\n",
    "from keras.models import Sequential\n",
    "from keras.layers import Dense, Activation, Flatten\n",
    "from sklearn.model_selection import train_test_split\n",
    "from sklearn.ensemble import RandomForestRegressor\n",
    "from sklearn.metrics import mean_absolute_error \n",
    "from matplotlib import pyplot as plt\n",
    "import seaborn as sb\n",
    "import matplotlib.pyplot as plt\n",
    "import pandas as pd\n",
    "import numpy as np\n",
    "import warnings \n",
    "warnings.filterwarnings('ignore')\n",
    "warnings.filterwarnings('ignore', category=DeprecationWarning)\n",
    "from xgboost import XGBRegressor"
   ]
  },
  {
   "cell_type": "code",
   "execution_count": null,
   "metadata": {},
   "outputs": [],
   "source": []
  },
  {
   "cell_type": "markdown",
   "metadata": {},
   "source": [
    "# Import the data"
   ]
  },
  {
   "cell_type": "code",
   "execution_count": 4,
   "metadata": {},
   "outputs": [],
   "source": [
    "# help(pd.read_excel)"
   ]
  },
  {
   "cell_type": "code",
   "execution_count": 5,
   "metadata": {},
   "outputs": [],
   "source": [
    "# df_x = pd.read_excel('Research data sample.xlsx', sheet_name = 'Sheet1')"
   ]
  },
  {
   "cell_type": "code",
   "execution_count": 6,
   "metadata": {},
   "outputs": [],
   "source": [
    "df_x = pd.read_excel('Research data.xlsx', sheet_name = 'Sheet2')"
   ]
  },
  {
   "cell_type": "code",
   "execution_count": 7,
   "metadata": {},
   "outputs": [
    {
     "data": {
      "text/html": [
       "<div>\n",
       "<style scoped>\n",
       "    .dataframe tbody tr th:only-of-type {\n",
       "        vertical-align: middle;\n",
       "    }\n",
       "\n",
       "    .dataframe tbody tr th {\n",
       "        vertical-align: top;\n",
       "    }\n",
       "\n",
       "    .dataframe thead th {\n",
       "        text-align: right;\n",
       "    }\n",
       "</style>\n",
       "<table border=\"1\" class=\"dataframe\">\n",
       "  <thead>\n",
       "    <tr style=\"text-align: right;\">\n",
       "      <th></th>\n",
       "      <th>Column1</th>\n",
       "      <th>Column2</th>\n",
       "      <th>Column3</th>\n",
       "      <th>Column4</th>\n",
       "      <th>Column5</th>\n",
       "      <th>Column6</th>\n",
       "      <th>Column7</th>\n",
       "      <th>Column8</th>\n",
       "      <th>Column9</th>\n",
       "      <th>Column10</th>\n",
       "      <th>...</th>\n",
       "      <th>Column12</th>\n",
       "      <th>Column13</th>\n",
       "      <th>Column14</th>\n",
       "      <th>Column15</th>\n",
       "      <th>Column16</th>\n",
       "      <th>Column17</th>\n",
       "      <th>Column18</th>\n",
       "      <th>Column19</th>\n",
       "      <th>Column20</th>\n",
       "      <th>Column21</th>\n",
       "    </tr>\n",
       "  </thead>\n",
       "  <tbody>\n",
       "    <tr>\n",
       "      <th>0</th>\n",
       "      <td>0</td>\n",
       "      <td>0</td>\n",
       "      <td>1</td>\n",
       "      <td>0</td>\n",
       "      <td>0</td>\n",
       "      <td>0</td>\n",
       "      <td>0</td>\n",
       "      <td>0</td>\n",
       "      <td>0</td>\n",
       "      <td>0</td>\n",
       "      <td>...</td>\n",
       "      <td>0</td>\n",
       "      <td>0</td>\n",
       "      <td>0</td>\n",
       "      <td>0</td>\n",
       "      <td>0</td>\n",
       "      <td>0</td>\n",
       "      <td>0</td>\n",
       "      <td>0</td>\n",
       "      <td>0</td>\n",
       "      <td>0</td>\n",
       "    </tr>\n",
       "    <tr>\n",
       "      <th>1</th>\n",
       "      <td>0</td>\n",
       "      <td>0</td>\n",
       "      <td>0</td>\n",
       "      <td>0</td>\n",
       "      <td>0</td>\n",
       "      <td>0</td>\n",
       "      <td>0</td>\n",
       "      <td>0</td>\n",
       "      <td>0</td>\n",
       "      <td>0</td>\n",
       "      <td>...</td>\n",
       "      <td>0</td>\n",
       "      <td>0</td>\n",
       "      <td>0</td>\n",
       "      <td>0</td>\n",
       "      <td>0</td>\n",
       "      <td>0</td>\n",
       "      <td>0</td>\n",
       "      <td>0</td>\n",
       "      <td>0</td>\n",
       "      <td>1</td>\n",
       "    </tr>\n",
       "  </tbody>\n",
       "</table>\n",
       "<p>2 rows × 21 columns</p>\n",
       "</div>"
      ],
      "text/plain": [
       "   Column1  Column2  Column3  Column4  Column5  Column6  Column7  Column8  \\\n",
       "0        0        0        1        0        0        0        0        0   \n",
       "1        0        0        0        0        0        0        0        0   \n",
       "\n",
       "   Column9  Column10  ...  Column12  Column13  Column14  Column15  Column16  \\\n",
       "0        0         0  ...         0         0         0         0         0   \n",
       "1        0         0  ...         0         0         0         0         0   \n",
       "\n",
       "   Column17  Column18  Column19  Column20  Column21  \n",
       "0         0         0         0         0         0  \n",
       "1         0         0         0         0         1  \n",
       "\n",
       "[2 rows x 21 columns]"
      ]
     },
     "execution_count": 7,
     "metadata": {},
     "output_type": "execute_result"
    }
   ],
   "source": [
    "df_x.head(2)"
   ]
  },
  {
   "cell_type": "code",
   "execution_count": 8,
   "metadata": {},
   "outputs": [
    {
     "data": {
      "text/plain": [
       "Index(['Column1', 'Column2', 'Column3', 'Column4', 'Column5', 'Column6',\n",
       "       'Column7', 'Column8', 'Column9', 'Column10', 'Column11', 'Column12',\n",
       "       'Column13', 'Column14', 'Column15', 'Column16', 'Column17', 'Column18',\n",
       "       'Column19', 'Column20', 'Column21'],\n",
       "      dtype='object')"
      ]
     },
     "execution_count": 8,
     "metadata": {},
     "output_type": "execute_result"
    }
   ],
   "source": [
    "df_x.columns"
   ]
  },
  {
   "cell_type": "code",
   "execution_count": 9,
   "metadata": {},
   "outputs": [],
   "source": [
    "# df_y = pd.read_excel('Research data sample.xlsx', sheet_name = 'Sheet2')"
   ]
  },
  {
   "cell_type": "code",
   "execution_count": 11,
   "metadata": {},
   "outputs": [],
   "source": [
    "df_y = pd.read_excel('Research data.xlsx', sheet_name = 'Sheet3')"
   ]
  },
  {
   "cell_type": "code",
   "execution_count": 12,
   "metadata": {},
   "outputs": [
    {
     "data": {
      "text/html": [
       "<div>\n",
       "<style scoped>\n",
       "    .dataframe tbody tr th:only-of-type {\n",
       "        vertical-align: middle;\n",
       "    }\n",
       "\n",
       "    .dataframe tbody tr th {\n",
       "        vertical-align: top;\n",
       "    }\n",
       "\n",
       "    .dataframe thead th {\n",
       "        text-align: right;\n",
       "    }\n",
       "</style>\n",
       "<table border=\"1\" class=\"dataframe\">\n",
       "  <thead>\n",
       "    <tr style=\"text-align: right;\">\n",
       "      <th></th>\n",
       "      <th>Column1</th>\n",
       "    </tr>\n",
       "  </thead>\n",
       "  <tbody>\n",
       "    <tr>\n",
       "      <th>0</th>\n",
       "      <td>66.193</td>\n",
       "    </tr>\n",
       "    <tr>\n",
       "      <th>1</th>\n",
       "      <td>66.193</td>\n",
       "    </tr>\n",
       "  </tbody>\n",
       "</table>\n",
       "</div>"
      ],
      "text/plain": [
       "   Column1\n",
       "0   66.193\n",
       "1   66.193"
      ]
     },
     "execution_count": 12,
     "metadata": {},
     "output_type": "execute_result"
    }
   ],
   "source": [
    "df_y.head(2)"
   ]
  },
  {
   "cell_type": "code",
   "execution_count": 13,
   "metadata": {},
   "outputs": [],
   "source": [
    "df_y = df_y.rename(columns={'Column1': 'Position'})"
   ]
  },
  {
   "cell_type": "code",
   "execution_count": 14,
   "metadata": {},
   "outputs": [
    {
     "data": {
      "text/html": [
       "<div>\n",
       "<style scoped>\n",
       "    .dataframe tbody tr th:only-of-type {\n",
       "        vertical-align: middle;\n",
       "    }\n",
       "\n",
       "    .dataframe tbody tr th {\n",
       "        vertical-align: top;\n",
       "    }\n",
       "\n",
       "    .dataframe thead th {\n",
       "        text-align: right;\n",
       "    }\n",
       "</style>\n",
       "<table border=\"1\" class=\"dataframe\">\n",
       "  <thead>\n",
       "    <tr style=\"text-align: right;\">\n",
       "      <th></th>\n",
       "      <th>Position</th>\n",
       "    </tr>\n",
       "  </thead>\n",
       "  <tbody>\n",
       "    <tr>\n",
       "      <th>0</th>\n",
       "      <td>66.193</td>\n",
       "    </tr>\n",
       "    <tr>\n",
       "      <th>1</th>\n",
       "      <td>66.193</td>\n",
       "    </tr>\n",
       "  </tbody>\n",
       "</table>\n",
       "</div>"
      ],
      "text/plain": [
       "   Position\n",
       "0    66.193\n",
       "1    66.193"
      ]
     },
     "execution_count": 14,
     "metadata": {},
     "output_type": "execute_result"
    }
   ],
   "source": [
    "df_y.head(2)"
   ]
  },
  {
   "cell_type": "code",
   "execution_count": 15,
   "metadata": {},
   "outputs": [],
   "source": [
    "df_all = df_x\n",
    "df_all['Position'] = df_y['Position']"
   ]
  },
  {
   "cell_type": "code",
   "execution_count": 16,
   "metadata": {},
   "outputs": [],
   "source": [
    "# df_all.to_csv('all-combined-data.csv', index = False)"
   ]
  },
  {
   "cell_type": "code",
   "execution_count": 17,
   "metadata": {},
   "outputs": [
    {
     "data": {
      "text/plain": [
       "729633"
      ]
     },
     "execution_count": 17,
     "metadata": {},
     "output_type": "execute_result"
    }
   ],
   "source": [
    "len(df_x)"
   ]
  },
  {
   "cell_type": "code",
   "execution_count": 18,
   "metadata": {},
   "outputs": [],
   "source": [
    "train_x = df_x[0:500000]\n",
    "test_x = df_x[600000:]\n",
    "train_y = df_y[0:500000]\n",
    "test_y = df_y[600000:]"
   ]
  },
  {
   "cell_type": "code",
   "execution_count": 19,
   "metadata": {},
   "outputs": [],
   "source": [
    "val_x = df_x[500000:600000]\n",
    "val_y = df_y[500000:600000]"
   ]
  },
  {
   "cell_type": "code",
   "execution_count": 20,
   "metadata": {},
   "outputs": [],
   "source": [
    "# df_all.head(2)"
   ]
  },
  {
   "cell_type": "code",
   "execution_count": 21,
   "metadata": {},
   "outputs": [],
   "source": [
    "# from sklearn.model_selection import train_test_split\n",
    "\n",
    "# train_x, test_x, train_y, test_y = train_test_split(df_x, df_y, test_size=0.2, random_state=42)"
   ]
  },
  {
   "cell_type": "code",
   "execution_count": 22,
   "metadata": {},
   "outputs": [
    {
     "data": {
      "text/html": [
       "<div>\n",
       "<style scoped>\n",
       "    .dataframe tbody tr th:only-of-type {\n",
       "        vertical-align: middle;\n",
       "    }\n",
       "\n",
       "    .dataframe tbody tr th {\n",
       "        vertical-align: top;\n",
       "    }\n",
       "\n",
       "    .dataframe thead th {\n",
       "        text-align: right;\n",
       "    }\n",
       "</style>\n",
       "<table border=\"1\" class=\"dataframe\">\n",
       "  <thead>\n",
       "    <tr style=\"text-align: right;\">\n",
       "      <th></th>\n",
       "      <th>Column1</th>\n",
       "      <th>Column2</th>\n",
       "      <th>Column3</th>\n",
       "      <th>Column4</th>\n",
       "      <th>Column5</th>\n",
       "      <th>Column6</th>\n",
       "      <th>Column7</th>\n",
       "      <th>Column8</th>\n",
       "      <th>Column9</th>\n",
       "      <th>Column10</th>\n",
       "      <th>...</th>\n",
       "      <th>Column13</th>\n",
       "      <th>Column14</th>\n",
       "      <th>Column15</th>\n",
       "      <th>Column16</th>\n",
       "      <th>Column17</th>\n",
       "      <th>Column18</th>\n",
       "      <th>Column19</th>\n",
       "      <th>Column20</th>\n",
       "      <th>Column21</th>\n",
       "      <th>Position</th>\n",
       "    </tr>\n",
       "  </thead>\n",
       "  <tbody>\n",
       "    <tr>\n",
       "      <th>0</th>\n",
       "      <td>0</td>\n",
       "      <td>0</td>\n",
       "      <td>1</td>\n",
       "      <td>0</td>\n",
       "      <td>0</td>\n",
       "      <td>0</td>\n",
       "      <td>0</td>\n",
       "      <td>0</td>\n",
       "      <td>0</td>\n",
       "      <td>0</td>\n",
       "      <td>...</td>\n",
       "      <td>0</td>\n",
       "      <td>0</td>\n",
       "      <td>0</td>\n",
       "      <td>0</td>\n",
       "      <td>0</td>\n",
       "      <td>0</td>\n",
       "      <td>0</td>\n",
       "      <td>0</td>\n",
       "      <td>0</td>\n",
       "      <td>66.193</td>\n",
       "    </tr>\n",
       "    <tr>\n",
       "      <th>1</th>\n",
       "      <td>0</td>\n",
       "      <td>0</td>\n",
       "      <td>0</td>\n",
       "      <td>0</td>\n",
       "      <td>0</td>\n",
       "      <td>0</td>\n",
       "      <td>0</td>\n",
       "      <td>0</td>\n",
       "      <td>0</td>\n",
       "      <td>0</td>\n",
       "      <td>...</td>\n",
       "      <td>0</td>\n",
       "      <td>0</td>\n",
       "      <td>0</td>\n",
       "      <td>0</td>\n",
       "      <td>0</td>\n",
       "      <td>0</td>\n",
       "      <td>0</td>\n",
       "      <td>0</td>\n",
       "      <td>1</td>\n",
       "      <td>66.193</td>\n",
       "    </tr>\n",
       "  </tbody>\n",
       "</table>\n",
       "<p>2 rows × 22 columns</p>\n",
       "</div>"
      ],
      "text/plain": [
       "   Column1  Column2  Column3  Column4  Column5  Column6  Column7  Column8  \\\n",
       "0        0        0        1        0        0        0        0        0   \n",
       "1        0        0        0        0        0        0        0        0   \n",
       "\n",
       "   Column9  Column10  ...  Column13  Column14  Column15  Column16  Column17  \\\n",
       "0        0         0  ...         0         0         0         0         0   \n",
       "1        0         0  ...         0         0         0         0         0   \n",
       "\n",
       "   Column18  Column19  Column20  Column21  Position  \n",
       "0         0         0         0         0    66.193  \n",
       "1         0         0         0         1    66.193  \n",
       "\n",
       "[2 rows x 22 columns]"
      ]
     },
     "execution_count": 22,
     "metadata": {},
     "output_type": "execute_result"
    }
   ],
   "source": [
    "train_x.head(2)"
   ]
  },
  {
   "cell_type": "code",
   "execution_count": 23,
   "metadata": {},
   "outputs": [
    {
     "data": {
      "text/plain": [
       "129633"
      ]
     },
     "execution_count": 23,
     "metadata": {},
     "output_type": "execute_result"
    }
   ],
   "source": [
    "len(test_x)"
   ]
  },
  {
   "cell_type": "code",
   "execution_count": 24,
   "metadata": {},
   "outputs": [
    {
     "data": {
      "text/plain": [
       "22"
      ]
     },
     "execution_count": 24,
     "metadata": {},
     "output_type": "execute_result"
    }
   ],
   "source": [
    "train_x.shape[1]"
   ]
  },
  {
   "cell_type": "markdown",
   "metadata": {},
   "source": [
    "# Training a Simple Linear Regression Model"
   ]
  },
  {
   "cell_type": "markdown",
   "metadata": {},
   "source": [
    "#### Followed this blogpost: https://aigeekprogrammer.com/binary-classification-using-logistic-regression-and-keras/"
   ]
  },
  {
   "cell_type": "code",
   "execution_count": 35,
   "metadata": {},
   "outputs": [
    {
     "name": "stdout",
     "output_type": "stream",
     "text": [
      "_________________________________________________________________\n",
      "Layer (type)                 Output Shape              Param #   \n",
      "=================================================================\n",
      "dense_2 (Dense)              (None, 1)                 23        \n",
      "=================================================================\n",
      "Total params: 23\n",
      "Trainable params: 23\n",
      "Non-trainable params: 0\n",
      "_________________________________________________________________\n"
     ]
    }
   ],
   "source": [
    "LR_model = Sequential()\n",
    "\n",
    "# The Input Layer :\n",
    "LR_model.add(Dense(1, kernel_initializer='normal',input_dim = train_x.shape[1], activation='linear'))\n",
    "\n",
    "# Compile the network :\n",
    "LR_model.compile(loss='mean_absolute_error', optimizer='adam', metrics=['mean_absolute_error'])\n",
    "LR_model.summary()"
   ]
  },
  {
   "cell_type": "markdown",
   "metadata": {},
   "source": [
    "#### Create a folder call \"lr_models\" to save your model weights"
   ]
  },
  {
   "cell_type": "code",
   "execution_count": 36,
   "metadata": {},
   "outputs": [],
   "source": [
    "checkpoint_name = 'lr_models/Weights-{epoch:03d}--{val_loss:.5f}.hdf5' \n",
    "checkpoint = ModelCheckpoint(checkpoint_name, monitor='val_loss', verbose = 1, save_best_only = True, mode ='auto')\n",
    "callbacks_list = [checkpoint]"
   ]
  },
  {
   "cell_type": "code",
   "execution_count": 37,
   "metadata": {},
   "outputs": [
    {
     "data": {
      "text/plain": [
       "[<keras.callbacks.ModelCheckpoint at 0x1718dd343c8>]"
      ]
     },
     "execution_count": 37,
     "metadata": {},
     "output_type": "execute_result"
    }
   ],
   "source": [
    "callbacks_list"
   ]
  },
  {
   "cell_type": "code",
   "execution_count": 38,
   "metadata": {},
   "outputs": [],
   "source": [
    "train = train_x.to_numpy()"
   ]
  },
  {
   "cell_type": "code",
   "execution_count": 39,
   "metadata": {},
   "outputs": [
    {
     "data": {
      "text/plain": [
       "(500000, 22)"
      ]
     },
     "execution_count": 39,
     "metadata": {},
     "output_type": "execute_result"
    }
   ],
   "source": [
    "train.shape"
   ]
  },
  {
   "cell_type": "code",
   "execution_count": 40,
   "metadata": {},
   "outputs": [],
   "source": [
    "target = train_y.to_numpy()"
   ]
  },
  {
   "cell_type": "code",
   "execution_count": 41,
   "metadata": {},
   "outputs": [
    {
     "data": {
      "text/plain": [
       "(500000, 1)"
      ]
     },
     "execution_count": 41,
     "metadata": {},
     "output_type": "execute_result"
    }
   ],
   "source": [
    "target.shape"
   ]
  },
  {
   "cell_type": "code",
   "execution_count": 42,
   "metadata": {},
   "outputs": [],
   "source": [
    "# ?NN_model.fit"
   ]
  },
  {
   "cell_type": "code",
   "execution_count": 43,
   "metadata": {},
   "outputs": [
    {
     "data": {
      "text/plain": [
       "(100000, 1)"
      ]
     },
     "execution_count": 43,
     "metadata": {},
     "output_type": "execute_result"
    }
   ],
   "source": [
    "val_y.to_numpy().shape"
   ]
  },
  {
   "cell_type": "code",
   "execution_count": 44,
   "metadata": {},
   "outputs": [
    {
     "name": "stdout",
     "output_type": "stream",
     "text": [
      "WARNING:tensorflow:From C:\\Users\\ayush\\Anaconda3\\envs\\event-type\\lib\\site-packages\\tensorflow\\python\\ops\\math_ops.py:3066: to_int32 (from tensorflow.python.ops.math_ops) is deprecated and will be removed in a future version.\n",
      "Instructions for updating:\n",
      "Use tf.cast instead.\n",
      "Train on 500000 samples, validate on 100000 samples\n",
      "Epoch 1/50\n",
      "500000/500000 [==============================] - 12s 23us/step - loss: 12.9852 - mean_absolute_error: 12.9852 - val_loss: 0.0280 - val_mean_absolute_error: 0.0280\n",
      "\n",
      "Epoch 00001: val_loss improved from inf to 0.02796, saving model to lr_models/Weights-001--0.02796.hdf5\n",
      "Epoch 2/50\n",
      "500000/500000 [==============================] - 11s 22us/step - loss: 0.0205 - mean_absolute_error: 0.0205 - val_loss: 0.0297 - val_mean_absolute_error: 0.0297\n",
      "\n",
      "Epoch 00002: val_loss did not improve from 0.02796\n",
      "Epoch 3/50\n",
      "500000/500000 [==============================] - 11s 22us/step - loss: 0.0205 - mean_absolute_error: 0.0205 - val_loss: 0.0348 - val_mean_absolute_error: 0.0348\n",
      "\n",
      "Epoch 00003: val_loss did not improve from 0.02796\n",
      "Epoch 4/50\n",
      "500000/500000 [==============================] - 12s 23us/step - loss: 0.0205 - mean_absolute_error: 0.0205 - val_loss: 0.0253 - val_mean_absolute_error: 0.0253\n",
      "\n",
      "Epoch 00004: val_loss improved from 0.02796 to 0.02530, saving model to lr_models/Weights-004--0.02530.hdf5\n",
      "Epoch 5/50\n",
      "500000/500000 [==============================] - 12s 23us/step - loss: 0.0215 - mean_absolute_error: 0.0215 - val_loss: 0.0051 - val_mean_absolute_error: 0.0051\n",
      "\n",
      "Epoch 00005: val_loss improved from 0.02530 to 0.00513, saving model to lr_models/Weights-005--0.00513.hdf5\n",
      "Epoch 6/50\n",
      "500000/500000 [==============================] - 12s 25us/step - loss: 0.0205 - mean_absolute_error: 0.0205 - val_loss: 6.3438e-04 - val_mean_absolute_error: 6.3438e-04\n",
      "\n",
      "Epoch 00006: val_loss improved from 0.00513 to 0.00063, saving model to lr_models/Weights-006--0.00063.hdf5\n",
      "Epoch 7/50\n",
      "500000/500000 [==============================] - 13s 27us/step - loss: 0.0210 - mean_absolute_error: 0.0210 - val_loss: 8.1171e-04 - val_mean_absolute_error: 8.1171e-04\n",
      "\n",
      "Epoch 00007: val_loss did not improve from 0.00063\n",
      "Epoch 8/50\n",
      "500000/500000 [==============================] - 12s 25us/step - loss: 0.0207 - mean_absolute_error: 0.0207 - val_loss: 0.0064 - val_mean_absolute_error: 0.0064\n",
      "\n",
      "Epoch 00008: val_loss did not improve from 0.00063\n",
      "Epoch 9/50\n",
      "500000/500000 [==============================] - 12s 25us/step - loss: 0.0205 - mean_absolute_error: 0.0205 - val_loss: 0.0340 - val_mean_absolute_error: 0.0340\n",
      "\n",
      "Epoch 00009: val_loss did not improve from 0.00063\n",
      "Epoch 10/50\n",
      "500000/500000 [==============================] - 12s 24us/step - loss: 0.0216 - mean_absolute_error: 0.0216 - val_loss: 0.0278 - val_mean_absolute_error: 0.0278\n",
      "\n",
      "Epoch 00010: val_loss did not improve from 0.00063\n",
      "Epoch 11/50\n",
      "500000/500000 [==============================] - 12s 25us/step - loss: 0.0213 - mean_absolute_error: 0.0213 - val_loss: 0.0348 - val_mean_absolute_error: 0.0348\n",
      "\n",
      "Epoch 00011: val_loss did not improve from 0.00063\n",
      "Epoch 12/50\n",
      "500000/500000 [==============================] - 12s 25us/step - loss: 0.0200 - mean_absolute_error: 0.0200 - val_loss: 0.0197 - val_mean_absolute_error: 0.0197\n",
      "\n",
      "Epoch 00012: val_loss did not improve from 0.00063\n",
      "Epoch 13/50\n",
      "500000/500000 [==============================] - 12s 24us/step - loss: 0.0211 - mean_absolute_error: 0.0211 - val_loss: 0.0393 - val_mean_absolute_error: 0.0393\n",
      "\n",
      "Epoch 00013: val_loss did not improve from 0.00063\n",
      "Epoch 14/50\n",
      "500000/500000 [==============================] - 12s 25us/step - loss: 0.0208 - mean_absolute_error: 0.0208 - val_loss: 0.0161 - val_mean_absolute_error: 0.0161\n",
      "\n",
      "Epoch 00014: val_loss did not improve from 0.00063\n",
      "Epoch 15/50\n",
      "500000/500000 [==============================] - 13s 25us/step - loss: 0.0199 - mean_absolute_error: 0.0199 - val_loss: 0.0010 - val_mean_absolute_error: 0.0010\n",
      "\n",
      "Epoch 00015: val_loss did not improve from 0.00063\n",
      "Epoch 16/50\n",
      "500000/500000 [==============================] - 12s 25us/step - loss: 0.0212 - mean_absolute_error: 0.0212 - val_loss: 0.0676 - val_mean_absolute_error: 0.0676\n",
      "\n",
      "Epoch 00016: val_loss did not improve from 0.00063\n",
      "Epoch 17/50\n",
      "500000/500000 [==============================] - 12s 25us/step - loss: 0.0209 - mean_absolute_error: 0.0209 - val_loss: 0.0078 - val_mean_absolute_error: 0.0078\n",
      "\n",
      "Epoch 00017: val_loss did not improve from 0.00063\n",
      "Epoch 18/50\n",
      "500000/500000 [==============================] - 13s 26us/step - loss: 0.0210 - mean_absolute_error: 0.0210 - val_loss: 0.0175 - val_mean_absolute_error: 0.0175\n",
      "\n",
      "Epoch 00018: val_loss did not improve from 0.00063\n",
      "Epoch 19/50\n",
      "500000/500000 [==============================] - 12s 25us/step - loss: 0.0213 - mean_absolute_error: 0.0213 - val_loss: 0.0018 - val_mean_absolute_error: 0.0018\n",
      "\n",
      "Epoch 00019: val_loss did not improve from 0.00063\n",
      "Epoch 20/50\n",
      "500000/500000 [==============================] - 12s 25us/step - loss: 0.0206 - mean_absolute_error: 0.0206 - val_loss: 0.0192 - val_mean_absolute_error: 0.0192\n",
      "\n",
      "Epoch 00020: val_loss did not improve from 0.00063\n",
      "Epoch 21/50\n",
      "500000/500000 [==============================] - 12s 25us/step - loss: 0.0213 - mean_absolute_error: 0.0213 - val_loss: 0.0080 - val_mean_absolute_error: 0.0080\n",
      "\n",
      "Epoch 00021: val_loss did not improve from 0.00063\n",
      "Epoch 22/50\n",
      "500000/500000 [==============================] - 13s 25us/step - loss: 0.0206 - mean_absolute_error: 0.0206 - val_loss: 0.0270 - val_mean_absolute_error: 0.0270\n",
      "\n",
      "Epoch 00022: val_loss did not improve from 0.00063\n",
      "Epoch 23/50\n",
      "500000/500000 [==============================] - 13s 26us/step - loss: 0.0205 - mean_absolute_error: 0.0205 - val_loss: 0.0369 - val_mean_absolute_error: 0.0369\n",
      "\n",
      "Epoch 00023: val_loss did not improve from 0.00063\n",
      "Epoch 24/50\n",
      "500000/500000 [==============================] - 13s 25us/step - loss: 0.0210 - mean_absolute_error: 0.0210 - val_loss: 0.0517 - val_mean_absolute_error: 0.0517\n",
      "\n",
      "Epoch 00024: val_loss did not improve from 0.00063\n",
      "Epoch 25/50\n",
      "500000/500000 [==============================] - 13s 25us/step - loss: 0.0205 - mean_absolute_error: 0.0205 - val_loss: 0.0069 - val_mean_absolute_error: 0.0069\n",
      "\n",
      "Epoch 00025: val_loss did not improve from 0.00063\n",
      "Epoch 26/50\n",
      "500000/500000 [==============================] - 13s 25us/step - loss: 0.0215 - mean_absolute_error: 0.0215 - val_loss: 0.0529 - val_mean_absolute_error: 0.0529\n",
      "\n",
      "Epoch 00026: val_loss did not improve from 0.00063\n",
      "Epoch 27/50\n",
      "500000/500000 [==============================] - 13s 26us/step - loss: 0.0205 - mean_absolute_error: 0.0205 - val_loss: 0.0668 - val_mean_absolute_error: 0.0668\n",
      "\n",
      "Epoch 00027: val_loss did not improve from 0.00063\n",
      "Epoch 28/50\n",
      "500000/500000 [==============================] - 13s 25us/step - loss: 0.0211 - mean_absolute_error: 0.0211 - val_loss: 0.0164 - val_mean_absolute_error: 0.0164\n",
      "\n",
      "Epoch 00028: val_loss did not improve from 0.00063\n",
      "Epoch 29/50\n",
      "500000/500000 [==============================] - 13s 25us/step - loss: 0.0208 - mean_absolute_error: 0.0208 - val_loss: 0.0330 - val_mean_absolute_error: 0.0330\n",
      "\n",
      "Epoch 00029: val_loss did not improve from 0.00063\n",
      "Epoch 30/50\n",
      "500000/500000 [==============================] - 13s 26us/step - loss: 0.0207 - mean_absolute_error: 0.0207 - val_loss: 0.0473 - val_mean_absolute_error: 0.0473\n",
      "\n",
      "Epoch 00030: val_loss did not improve from 0.00063\n",
      "Epoch 31/50\n",
      "500000/500000 [==============================] - 13s 25us/step - loss: 0.0206 - mean_absolute_error: 0.0206 - val_loss: 0.0168 - val_mean_absolute_error: 0.0168\n",
      "\n",
      "Epoch 00031: val_loss did not improve from 0.00063\n",
      "Epoch 32/50\n",
      "500000/500000 [==============================] - 17s 34us/step - loss: 0.0211 - mean_absolute_error: 0.0211 - val_loss: 0.0165 - val_mean_absolute_error: 0.0165\n",
      "\n",
      "Epoch 00032: val_loss did not improve from 0.00063\n",
      "Epoch 33/50\n",
      "500000/500000 [==============================] - 13s 25us/step - loss: 0.0216 - mean_absolute_error: 0.0216 - val_loss: 0.0245 - val_mean_absolute_error: 0.0245\n",
      "\n",
      "Epoch 00033: val_loss did not improve from 0.00063\n",
      "Epoch 34/50\n",
      "500000/500000 [==============================] - 12s 25us/step - loss: 0.0202 - mean_absolute_error: 0.0202 - val_loss: 0.0328 - val_mean_absolute_error: 0.0328\n",
      "\n",
      "Epoch 00034: val_loss did not improve from 0.00063\n",
      "Epoch 35/50\n"
     ]
    },
    {
     "name": "stdout",
     "output_type": "stream",
     "text": [
      "500000/500000 [==============================] - 11s 22us/step - loss: 0.0220 - mean_absolute_error: 0.0220 - val_loss: 0.0100 - val_mean_absolute_error: 0.0100\n",
      "\n",
      "Epoch 00035: val_loss did not improve from 0.00063\n",
      "Epoch 36/50\n",
      "500000/500000 [==============================] - 12s 24us/step - loss: 0.0207 - mean_absolute_error: 0.0207 - val_loss: 0.0198 - val_mean_absolute_error: 0.0198\n",
      "\n",
      "Epoch 00036: val_loss did not improve from 0.00063\n",
      "Epoch 37/50\n",
      "500000/500000 [==============================] - 11s 22us/step - loss: 0.0208 - mean_absolute_error: 0.0208 - val_loss: 0.0204 - val_mean_absolute_error: 0.0204\n",
      "\n",
      "Epoch 00037: val_loss did not improve from 0.00063\n",
      "Epoch 38/50\n",
      "500000/500000 [==============================] - 10s 20us/step - loss: 0.0210 - mean_absolute_error: 0.0210 - val_loss: 0.0218 - val_mean_absolute_error: 0.0218\n",
      "\n",
      "Epoch 00038: val_loss did not improve from 0.00063\n",
      "Epoch 39/50\n",
      "500000/500000 [==============================] - 10s 20us/step - loss: 0.0208 - mean_absolute_error: 0.0208 - val_loss: 0.0330 - val_mean_absolute_error: 0.0330\n",
      "\n",
      "Epoch 00039: val_loss did not improve from 0.00063\n",
      "Epoch 40/50\n",
      "500000/500000 [==============================] - 10s 20us/step - loss: 0.0209 - mean_absolute_error: 0.0209 - val_loss: 0.0210 - val_mean_absolute_error: 0.0210\n",
      "\n",
      "Epoch 00040: val_loss did not improve from 0.00063\n",
      "Epoch 41/50\n",
      "500000/500000 [==============================] - 10s 20us/step - loss: 0.0203 - mean_absolute_error: 0.0203 - val_loss: 0.0019 - val_mean_absolute_error: 0.0019\n",
      "\n",
      "Epoch 00041: val_loss did not improve from 0.00063\n",
      "Epoch 42/50\n",
      "500000/500000 [==============================] - 10s 19us/step - loss: 0.0212 - mean_absolute_error: 0.0212 - val_loss: 0.0072 - val_mean_absolute_error: 0.0072\n",
      "\n",
      "Epoch 00042: val_loss did not improve from 0.00063\n",
      "Epoch 43/50\n",
      "500000/500000 [==============================] - 10s 20us/step - loss: 0.0213 - mean_absolute_error: 0.0213 - val_loss: 0.0148 - val_mean_absolute_error: 0.0148\n",
      "\n",
      "Epoch 00043: val_loss did not improve from 0.00063\n",
      "Epoch 44/50\n",
      "500000/500000 [==============================] - 10s 20us/step - loss: 0.0203 - mean_absolute_error: 0.0203 - val_loss: 0.0455 - val_mean_absolute_error: 0.0455\n",
      "\n",
      "Epoch 00044: val_loss did not improve from 0.00063\n",
      "Epoch 45/50\n",
      "500000/500000 [==============================] - 10s 20us/step - loss: 0.0204 - mean_absolute_error: 0.0204 - val_loss: 0.0011 - val_mean_absolute_error: 0.0011\n",
      "\n",
      "Epoch 00045: val_loss did not improve from 0.00063\n",
      "Epoch 46/50\n",
      "500000/500000 [==============================] - 10s 20us/step - loss: 0.0215 - mean_absolute_error: 0.0215 - val_loss: 0.0099 - val_mean_absolute_error: 0.0099\n",
      "\n",
      "Epoch 00046: val_loss did not improve from 0.00063\n",
      "Epoch 47/50\n",
      "500000/500000 [==============================] - 10s 20us/step - loss: 0.0197 - mean_absolute_error: 0.0197 - val_loss: 0.0247 - val_mean_absolute_error: 0.0247\n",
      "\n",
      "Epoch 00047: val_loss did not improve from 0.00063\n",
      "Epoch 48/50\n",
      "500000/500000 [==============================] - 10s 20us/step - loss: 0.0213 - mean_absolute_error: 0.0213 - val_loss: 0.0024 - val_mean_absolute_error: 0.0024\n",
      "\n",
      "Epoch 00048: val_loss did not improve from 0.00063\n",
      "Epoch 49/50\n",
      "500000/500000 [==============================] - 11s 22us/step - loss: 0.0211 - mean_absolute_error: 0.0211 - val_loss: 0.0017 - val_mean_absolute_error: 0.0017\n",
      "\n",
      "Epoch 00049: val_loss did not improve from 0.00063\n",
      "Epoch 50/50\n",
      "500000/500000 [==============================] - 11s 21us/step - loss: 0.0205 - mean_absolute_error: 0.0205 - val_loss: 0.0086 - val_mean_absolute_error: 0.0086\n",
      "\n",
      "Epoch 00050: val_loss did not improve from 0.00063\n"
     ]
    },
    {
     "data": {
      "text/plain": [
       "<keras.callbacks.History at 0x171ae75df60>"
      ]
     },
     "execution_count": 44,
     "metadata": {},
     "output_type": "execute_result"
    }
   ],
   "source": [
    "LR_model.fit(train, target, epochs=50, batch_size=64, validation_data = (val_x.to_numpy(), val_y.to_numpy()), callbacks=callbacks_list)"
   ]
  },
  {
   "cell_type": "code",
   "execution_count": null,
   "metadata": {},
   "outputs": [],
   "source": []
  },
  {
   "cell_type": "code",
   "execution_count": 46,
   "metadata": {},
   "outputs": [],
   "source": [
    "wights_file = 'lr_models/Weights-006--0.00063.hdf5' # choose the best checkpoint \n",
    "LR_model.load_weights(wights_file) # load it\n",
    "LR_model.compile(loss='mean_absolute_error', optimizer='adam', metrics=['mean_absolute_error'])"
   ]
  },
  {
   "cell_type": "code",
   "execution_count": 47,
   "metadata": {},
   "outputs": [],
   "source": [
    "test = test_x.to_numpy()"
   ]
  },
  {
   "cell_type": "code",
   "execution_count": 49,
   "metadata": {},
   "outputs": [],
   "source": [
    "predictions = LR_model.predict(test)"
   ]
  },
  {
   "cell_type": "code",
   "execution_count": 50,
   "metadata": {},
   "outputs": [
    {
     "data": {
      "text/plain": [
       "array([215.34814], dtype=float32)"
      ]
     },
     "execution_count": 50,
     "metadata": {},
     "output_type": "execute_result"
    }
   ],
   "source": [
    "predictions[1]"
   ]
  },
  {
   "cell_type": "code",
   "execution_count": 51,
   "metadata": {},
   "outputs": [],
   "source": [
    "actual = test_y.to_numpy()"
   ]
  },
  {
   "cell_type": "code",
   "execution_count": 52,
   "metadata": {},
   "outputs": [
    {
     "data": {
      "text/plain": [
       "array([215.35])"
      ]
     },
     "execution_count": 52,
     "metadata": {},
     "output_type": "execute_result"
    }
   ],
   "source": [
    "actual[1]"
   ]
  },
  {
   "cell_type": "markdown",
   "metadata": {},
   "source": [
    "### We will judge our model on Mean Absolute Error Metric"
   ]
  },
  {
   "cell_type": "code",
   "execution_count": 53,
   "metadata": {},
   "outputs": [
    {
     "name": "stdout",
     "output_type": "stream",
     "text": [
      "Deep Neural Network validation MAE =  0.0006395305843977815\n"
     ]
    }
   ],
   "source": [
    "MAE = mean_absolute_error(actual , predictions)\n",
    "print('Deep Neural Network validation MAE = ', MAE)"
   ]
  }
 ],
 "metadata": {
  "kernelspec": {
   "display_name": "Python 3",
   "language": "python",
   "name": "python3"
  },
  "language_info": {
   "codemirror_mode": {
    "name": "ipython",
    "version": 3
   },
   "file_extension": ".py",
   "mimetype": "text/x-python",
   "name": "python",
   "nbconvert_exporter": "python",
   "pygments_lexer": "ipython3",
   "version": "3.6.9"
  }
 },
 "nbformat": 4,
 "nbformat_minor": 2
}
